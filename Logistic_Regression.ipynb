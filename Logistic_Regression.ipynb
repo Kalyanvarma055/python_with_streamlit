{
  "cells": [
    {
      "cell_type": "code",
      "execution_count": 2,
      "metadata": {
        "id": "1HXdu6BymefF"
      },
      "outputs": [],
      "source": [
        "# Import my data\n",
        "\n",
        "import pandas as pd\n",
        "import numpy as np\n",
        "\n",
        "df = pd.read_csv('/Users/kalyanvarma/Documents/Streamlit/accident.csv')"
      ]
    },
    {
      "cell_type": "code",
      "execution_count": 3,
      "metadata": {
        "colab": {
          "base_uri": "https://localhost:8080/",
          "height": 206
        },
        "id": "LEeTegcpm0m1",
        "outputId": "074913d7-b1dd-4a89-81a2-76214d4baea4"
      },
      "outputs": [
        {
          "data": {
            "text/html": [
              "<div>\n",
              "<style scoped>\n",
              "    .dataframe tbody tr th:only-of-type {\n",
              "        vertical-align: middle;\n",
              "    }\n",
              "\n",
              "    .dataframe tbody tr th {\n",
              "        vertical-align: top;\n",
              "    }\n",
              "\n",
              "    .dataframe thead th {\n",
              "        text-align: right;\n",
              "    }\n",
              "</style>\n",
              "<table border=\"1\" class=\"dataframe\">\n",
              "  <thead>\n",
              "    <tr style=\"text-align: right;\">\n",
              "      <th></th>\n",
              "      <th>Age</th>\n",
              "      <th>Gender</th>\n",
              "      <th>Speed_of_Impact</th>\n",
              "      <th>Helmet_Used</th>\n",
              "      <th>Seatbelt_Used</th>\n",
              "      <th>Survived</th>\n",
              "    </tr>\n",
              "  </thead>\n",
              "  <tbody>\n",
              "    <tr>\n",
              "      <th>0</th>\n",
              "      <td>56</td>\n",
              "      <td>Female</td>\n",
              "      <td>27.0</td>\n",
              "      <td>No</td>\n",
              "      <td>No</td>\n",
              "      <td>1</td>\n",
              "    </tr>\n",
              "    <tr>\n",
              "      <th>1</th>\n",
              "      <td>69</td>\n",
              "      <td>Female</td>\n",
              "      <td>46.0</td>\n",
              "      <td>No</td>\n",
              "      <td>Yes</td>\n",
              "      <td>1</td>\n",
              "    </tr>\n",
              "    <tr>\n",
              "      <th>2</th>\n",
              "      <td>46</td>\n",
              "      <td>Male</td>\n",
              "      <td>46.0</td>\n",
              "      <td>Yes</td>\n",
              "      <td>Yes</td>\n",
              "      <td>0</td>\n",
              "    </tr>\n",
              "    <tr>\n",
              "      <th>3</th>\n",
              "      <td>32</td>\n",
              "      <td>Male</td>\n",
              "      <td>117.0</td>\n",
              "      <td>No</td>\n",
              "      <td>Yes</td>\n",
              "      <td>0</td>\n",
              "    </tr>\n",
              "    <tr>\n",
              "      <th>4</th>\n",
              "      <td>60</td>\n",
              "      <td>Female</td>\n",
              "      <td>40.0</td>\n",
              "      <td>Yes</td>\n",
              "      <td>Yes</td>\n",
              "      <td>0</td>\n",
              "    </tr>\n",
              "  </tbody>\n",
              "</table>\n",
              "</div>"
            ],
            "text/plain": [
              "   Age  Gender  Speed_of_Impact Helmet_Used Seatbelt_Used  Survived\n",
              "0   56  Female             27.0          No            No         1\n",
              "1   69  Female             46.0          No           Yes         1\n",
              "2   46    Male             46.0         Yes           Yes         0\n",
              "3   32    Male            117.0          No           Yes         0\n",
              "4   60  Female             40.0         Yes           Yes         0"
            ]
          },
          "execution_count": 3,
          "metadata": {},
          "output_type": "execute_result"
        }
      ],
      "source": [
        "df.head()"
      ]
    },
    {
      "cell_type": "code",
      "execution_count": 4,
      "metadata": {
        "colab": {
          "base_uri": "https://localhost:8080/"
        },
        "id": "93zUPApjm0pH",
        "outputId": "fdce013d-8fd7-413f-d8f2-885399d1e202"
      },
      "outputs": [
        {
          "name": "stdout",
          "output_type": "stream",
          "text": [
            "<class 'pandas.core.frame.DataFrame'>\n",
            "RangeIndex: 200 entries, 0 to 199\n",
            "Data columns (total 6 columns):\n",
            " #   Column           Non-Null Count  Dtype  \n",
            "---  ------           --------------  -----  \n",
            " 0   Age              200 non-null    int64  \n",
            " 1   Gender           199 non-null    object \n",
            " 2   Speed_of_Impact  197 non-null    float64\n",
            " 3   Helmet_Used      200 non-null    object \n",
            " 4   Seatbelt_Used    200 non-null    object \n",
            " 5   Survived         200 non-null    int64  \n",
            "dtypes: float64(1), int64(2), object(3)\n",
            "memory usage: 9.5+ KB\n"
          ]
        }
      ],
      "source": [
        "# Descriptive Statistics\n",
        "\n",
        "df.info()"
      ]
    },
    {
      "cell_type": "code",
      "execution_count": 6,
      "metadata": {
        "colab": {
          "base_uri": "https://localhost:8080/",
          "height": 272
        },
        "id": "chTcjMWSm0rM",
        "outputId": "d29ba930-e95d-4755-faa5-813ee67c7ad7"
      },
      "outputs": [
        {
          "data": {
            "text/plain": [
              "Age                0\n",
              "Gender             1\n",
              "Speed_of_Impact    3\n",
              "Helmet_Used        0\n",
              "Seatbelt_Used      0\n",
              "Survived           0\n",
              "dtype: int64"
            ]
          },
          "execution_count": 6,
          "metadata": {},
          "output_type": "execute_result"
        }
      ],
      "source": [
        "df.isnull().sum() # missing values"
      ]
    },
    {
      "cell_type": "code",
      "execution_count": 5,
      "metadata": {
        "colab": {
          "base_uri": "https://localhost:8080/",
          "height": 272
        },
        "id": "-CcCHjuRm0tn",
        "outputId": "ea1e9a0e-99b4-446b-9cc1-a509e4a8673b"
      },
      "outputs": [
        {
          "data": {
            "text/plain": [
              "Age                51\n",
              "Gender              2\n",
              "Speed_of_Impact    80\n",
              "Helmet_Used         2\n",
              "Seatbelt_Used       2\n",
              "Survived            2\n",
              "dtype: int64"
            ]
          },
          "execution_count": 5,
          "metadata": {},
          "output_type": "execute_result"
        }
      ],
      "source": [
        "# Cardinality of the features\n",
        "\n",
        "df.nunique()"
      ]
    },
    {
      "cell_type": "code",
      "execution_count": 7,
      "metadata": {
        "colab": {
          "base_uri": "https://localhost:8080/",
          "height": 206
        },
        "id": "PT_L5W8ynezG",
        "outputId": "df06d51a-bbbe-49eb-d591-55528c830419"
      },
      "outputs": [
        {
          "data": {
            "text/html": [
              "<div>\n",
              "<style scoped>\n",
              "    .dataframe tbody tr th:only-of-type {\n",
              "        vertical-align: middle;\n",
              "    }\n",
              "\n",
              "    .dataframe tbody tr th {\n",
              "        vertical-align: top;\n",
              "    }\n",
              "\n",
              "    .dataframe thead th {\n",
              "        text-align: right;\n",
              "    }\n",
              "</style>\n",
              "<table border=\"1\" class=\"dataframe\">\n",
              "  <thead>\n",
              "    <tr style=\"text-align: right;\">\n",
              "      <th></th>\n",
              "      <th>Age</th>\n",
              "      <th>Gender</th>\n",
              "      <th>Speed_of_Impact</th>\n",
              "      <th>Helmet_Used</th>\n",
              "      <th>Seatbelt_Used</th>\n",
              "      <th>Survived</th>\n",
              "    </tr>\n",
              "  </thead>\n",
              "  <tbody>\n",
              "    <tr>\n",
              "      <th>0</th>\n",
              "      <td>56</td>\n",
              "      <td>Female</td>\n",
              "      <td>27.0</td>\n",
              "      <td>No</td>\n",
              "      <td>No</td>\n",
              "      <td>1</td>\n",
              "    </tr>\n",
              "    <tr>\n",
              "      <th>1</th>\n",
              "      <td>69</td>\n",
              "      <td>Female</td>\n",
              "      <td>46.0</td>\n",
              "      <td>No</td>\n",
              "      <td>Yes</td>\n",
              "      <td>1</td>\n",
              "    </tr>\n",
              "    <tr>\n",
              "      <th>2</th>\n",
              "      <td>46</td>\n",
              "      <td>Male</td>\n",
              "      <td>46.0</td>\n",
              "      <td>Yes</td>\n",
              "      <td>Yes</td>\n",
              "      <td>0</td>\n",
              "    </tr>\n",
              "    <tr>\n",
              "      <th>3</th>\n",
              "      <td>32</td>\n",
              "      <td>Male</td>\n",
              "      <td>117.0</td>\n",
              "      <td>No</td>\n",
              "      <td>Yes</td>\n",
              "      <td>0</td>\n",
              "    </tr>\n",
              "    <tr>\n",
              "      <th>4</th>\n",
              "      <td>60</td>\n",
              "      <td>Female</td>\n",
              "      <td>40.0</td>\n",
              "      <td>Yes</td>\n",
              "      <td>Yes</td>\n",
              "      <td>0</td>\n",
              "    </tr>\n",
              "  </tbody>\n",
              "</table>\n",
              "</div>"
            ],
            "text/plain": [
              "   Age  Gender  Speed_of_Impact Helmet_Used Seatbelt_Used  Survived\n",
              "0   56  Female             27.0          No            No         1\n",
              "1   69  Female             46.0          No           Yes         1\n",
              "2   46    Male             46.0         Yes           Yes         0\n",
              "3   32    Male            117.0          No           Yes         0\n",
              "4   60  Female             40.0         Yes           Yes         0"
            ]
          },
          "execution_count": 7,
          "metadata": {},
          "output_type": "execute_result"
        }
      ],
      "source": [
        "df.head()"
      ]
    },
    {
      "cell_type": "code",
      "execution_count": 8,
      "metadata": {
        "id": "MBd-0SuOm0vm"
      },
      "outputs": [],
      "source": [
        "# Manual encoding\n",
        "\n",
        "df['Gender'] = df['Gender'].apply(lambda x: 1 if x == 'Male' else 0) # 1 - Male and 0 - Female & Missing\n",
        "df['Helmet_Used'] = df['Helmet_Used'].apply(lambda x: 1 if x == 'Yes'\n",
        "                                                        else 0) # 1 - Yes  and 0 - Female\n",
        "df['Seatbelt_Used'] = df['Seatbelt_Used'].apply(lambda x: 1 if x == 'Yes'\n",
        "                                                        else 0) # 1 - Yes and 0 - Female"
      ]
    },
    {
      "cell_type": "code",
      "execution_count": 9,
      "metadata": {
        "colab": {
          "base_uri": "https://localhost:8080/",
          "height": 206
        },
        "id": "E7Qga-Dtolsf",
        "outputId": "97ca70c8-6e35-48e7-cb19-a6be13ae4722"
      },
      "outputs": [
        {
          "data": {
            "text/html": [
              "<div>\n",
              "<style scoped>\n",
              "    .dataframe tbody tr th:only-of-type {\n",
              "        vertical-align: middle;\n",
              "    }\n",
              "\n",
              "    .dataframe tbody tr th {\n",
              "        vertical-align: top;\n",
              "    }\n",
              "\n",
              "    .dataframe thead th {\n",
              "        text-align: right;\n",
              "    }\n",
              "</style>\n",
              "<table border=\"1\" class=\"dataframe\">\n",
              "  <thead>\n",
              "    <tr style=\"text-align: right;\">\n",
              "      <th></th>\n",
              "      <th>Age</th>\n",
              "      <th>Gender</th>\n",
              "      <th>Speed_of_Impact</th>\n",
              "      <th>Helmet_Used</th>\n",
              "      <th>Seatbelt_Used</th>\n",
              "      <th>Survived</th>\n",
              "    </tr>\n",
              "  </thead>\n",
              "  <tbody>\n",
              "    <tr>\n",
              "      <th>0</th>\n",
              "      <td>56</td>\n",
              "      <td>0</td>\n",
              "      <td>27.0</td>\n",
              "      <td>0</td>\n",
              "      <td>0</td>\n",
              "      <td>1</td>\n",
              "    </tr>\n",
              "    <tr>\n",
              "      <th>1</th>\n",
              "      <td>69</td>\n",
              "      <td>0</td>\n",
              "      <td>46.0</td>\n",
              "      <td>0</td>\n",
              "      <td>1</td>\n",
              "      <td>1</td>\n",
              "    </tr>\n",
              "    <tr>\n",
              "      <th>2</th>\n",
              "      <td>46</td>\n",
              "      <td>1</td>\n",
              "      <td>46.0</td>\n",
              "      <td>1</td>\n",
              "      <td>1</td>\n",
              "      <td>0</td>\n",
              "    </tr>\n",
              "    <tr>\n",
              "      <th>3</th>\n",
              "      <td>32</td>\n",
              "      <td>1</td>\n",
              "      <td>117.0</td>\n",
              "      <td>0</td>\n",
              "      <td>1</td>\n",
              "      <td>0</td>\n",
              "    </tr>\n",
              "    <tr>\n",
              "      <th>4</th>\n",
              "      <td>60</td>\n",
              "      <td>0</td>\n",
              "      <td>40.0</td>\n",
              "      <td>1</td>\n",
              "      <td>1</td>\n",
              "      <td>0</td>\n",
              "    </tr>\n",
              "  </tbody>\n",
              "</table>\n",
              "</div>"
            ],
            "text/plain": [
              "   Age  Gender  Speed_of_Impact  Helmet_Used  Seatbelt_Used  Survived\n",
              "0   56       0             27.0            0              0         1\n",
              "1   69       0             46.0            0              1         1\n",
              "2   46       1             46.0            1              1         0\n",
              "3   32       1            117.0            0              1         0\n",
              "4   60       0             40.0            1              1         0"
            ]
          },
          "execution_count": 9,
          "metadata": {},
          "output_type": "execute_result"
        }
      ],
      "source": [
        "df.head()"
      ]
    },
    {
      "cell_type": "code",
      "execution_count": 23,
      "metadata": {
        "colab": {
          "base_uri": "https://localhost:8080/",
          "height": 447
        },
        "id": "49KJoZ2jolvE",
        "outputId": "cdc0af0b-d319-4d08-eace-1884825c4045"
      },
      "outputs": [
        {
          "name": "stderr",
          "output_type": "stream",
          "text": [
            "Matplotlib is building the font cache; this may take a moment.\n"
          ]
        },
        {
          "data": {
            "text/plain": [
              "<Axes: >"
            ]
          },
          "execution_count": 23,
          "metadata": {},
          "output_type": "execute_result"
        },
        {
          "data": {
            "image/png": "[encoded data removed]",
            "text/plain": [
              "<Figure size 640x480 with 1 Axes>"
            ]
          },
          "metadata": {},
          "output_type": "display_data"
        }
      ],
      "source": [
        "df.Speed_of_Impact.hist() # histogram of Speed of Impact"
      ]
    },
    {
      "cell_type": "code",
      "execution_count": 11,
      "metadata": {
        "colab": {
          "base_uri": "https://localhost:8080/",
          "height": 300
        },
        "id": "WoqWAfS-olxt",
        "outputId": "5ccda32a-c056-419d-c2a1-a4529679fd7f"
      },
      "outputs": [
        {
          "data": {
            "text/html": [
              "<div>\n",
              "<style scoped>\n",
              "    .dataframe tbody tr th:only-of-type {\n",
              "        vertical-align: middle;\n",
              "    }\n",
              "\n",
              "    .dataframe tbody tr th {\n",
              "        vertical-align: top;\n",
              "    }\n",
              "\n",
              "    .dataframe thead th {\n",
              "        text-align: right;\n",
              "    }\n",
              "</style>\n",
              "<table border=\"1\" class=\"dataframe\">\n",
              "  <thead>\n",
              "    <tr style=\"text-align: right;\">\n",
              "      <th></th>\n",
              "      <th>Age</th>\n",
              "      <th>Gender</th>\n",
              "      <th>Speed_of_Impact</th>\n",
              "      <th>Helmet_Used</th>\n",
              "      <th>Seatbelt_Used</th>\n",
              "      <th>Survived</th>\n",
              "    </tr>\n",
              "  </thead>\n",
              "  <tbody>\n",
              "    <tr>\n",
              "      <th>count</th>\n",
              "      <td>200.00000</td>\n",
              "      <td>200.000000</td>\n",
              "      <td>197.000000</td>\n",
              "      <td>200.000000</td>\n",
              "      <td>200.000000</td>\n",
              "      <td>200.00000</td>\n",
              "    </tr>\n",
              "    <tr>\n",
              "      <th>mean</th>\n",
              "      <td>43.42500</td>\n",
              "      <td>0.445000</td>\n",
              "      <td>70.441624</td>\n",
              "      <td>0.555000</td>\n",
              "      <td>0.555000</td>\n",
              "      <td>0.50500</td>\n",
              "    </tr>\n",
              "    <tr>\n",
              "      <th>std</th>\n",
              "      <td>14.94191</td>\n",
              "      <td>0.498213</td>\n",
              "      <td>30.125298</td>\n",
              "      <td>0.498213</td>\n",
              "      <td>0.498213</td>\n",
              "      <td>0.50123</td>\n",
              "    </tr>\n",
              "    <tr>\n",
              "      <th>min</th>\n",
              "      <td>18.00000</td>\n",
              "      <td>0.000000</td>\n",
              "      <td>20.000000</td>\n",
              "      <td>0.000000</td>\n",
              "      <td>0.000000</td>\n",
              "      <td>0.00000</td>\n",
              "    </tr>\n",
              "    <tr>\n",
              "      <th>25%</th>\n",
              "      <td>31.00000</td>\n",
              "      <td>0.000000</td>\n",
              "      <td>43.000000</td>\n",
              "      <td>0.000000</td>\n",
              "      <td>0.000000</td>\n",
              "      <td>0.00000</td>\n",
              "    </tr>\n",
              "    <tr>\n",
              "      <th>50%</th>\n",
              "      <td>43.50000</td>\n",
              "      <td>0.000000</td>\n",
              "      <td>71.000000</td>\n",
              "      <td>1.000000</td>\n",
              "      <td>1.000000</td>\n",
              "      <td>1.00000</td>\n",
              "    </tr>\n",
              "    <tr>\n",
              "      <th>75%</th>\n",
              "      <td>56.00000</td>\n",
              "      <td>1.000000</td>\n",
              "      <td>95.000000</td>\n",
              "      <td>1.000000</td>\n",
              "      <td>1.000000</td>\n",
              "      <td>1.00000</td>\n",
              "    </tr>\n",
              "    <tr>\n",
              "      <th>max</th>\n",
              "      <td>69.00000</td>\n",
              "      <td>1.000000</td>\n",
              "      <td>119.000000</td>\n",
              "      <td>1.000000</td>\n",
              "      <td>1.000000</td>\n",
              "      <td>1.00000</td>\n",
              "    </tr>\n",
              "  </tbody>\n",
              "</table>\n",
              "</div>"
            ],
            "text/plain": [
              "             Age      Gender  Speed_of_Impact  Helmet_Used  Seatbelt_Used  \\\n",
              "count  200.00000  200.000000       197.000000   200.000000     200.000000   \n",
              "mean    43.42500    0.445000        70.441624     0.555000       0.555000   \n",
              "std     14.94191    0.498213        30.125298     0.498213       0.498213   \n",
              "min     18.00000    0.000000        20.000000     0.000000       0.000000   \n",
              "25%     31.00000    0.000000        43.000000     0.000000       0.000000   \n",
              "50%     43.50000    0.000000        71.000000     1.000000       1.000000   \n",
              "75%     56.00000    1.000000        95.000000     1.000000       1.000000   \n",
              "max     69.00000    1.000000       119.000000     1.000000       1.000000   \n",
              "\n",
              "        Survived  \n",
              "count  200.00000  \n",
              "mean     0.50500  \n",
              "std      0.50123  \n",
              "min      0.00000  \n",
              "25%      0.00000  \n",
              "50%      1.00000  \n",
              "75%      1.00000  \n",
              "max      1.00000  "
            ]
          },
          "execution_count": 11,
          "metadata": {},
          "output_type": "execute_result"
        }
      ],
      "source": [
        "# Descriptive stats\n",
        "\n",
        "df.describe()"
      ]
    },
    {
      "cell_type": "code",
      "execution_count": 24,
      "metadata": {
        "colab": {
          "base_uri": "https://localhost:8080/",
          "height": 556
        },
        "id": "E9Hx5IIana5N",
        "outputId": "9dd88c7e-68f3-4909-ebf8-7c643f1427d8"
      },
      "outputs": [
        {
          "data": {
            "text/plain": [
              "array([[<Axes: title={'center': 'Age'}>,\n",
              "        <Axes: title={'center': 'Gender'}>],\n",
              "       [<Axes: title={'center': 'Speed_of_Impact'}>,\n",
              "        <Axes: title={'center': 'Helmet_Used'}>],\n",
              "       [<Axes: title={'center': 'Seatbelt_Used'}>,\n",
              "        <Axes: title={'center': 'Survived'}>]], dtype=object)"
            ]
          },
          "execution_count": 24,
          "metadata": {},
          "output_type": "execute_result"
        },
        {
          "data": {
            "image/png": "[encoded data removed]",
            "text/plain": [
              "<Figure size 640x480 with 6 Axes>"
            ]
          },
          "metadata": {},
          "output_type": "display_data"
        }
      ],
      "source": [
        "# Histogram of entire data\n",
        "\n",
        "# Histogram\n",
        "df.hist()"
      ]
    },
    {
      "cell_type": "code",
      "execution_count": 25,
      "metadata": {
        "colab": {
          "base_uri": "https://localhost:8080/"
        },
        "id": "A7KNNBpyqOvI",
        "outputId": "03357950-313b-4fd9-ff78-44f9aa4d59b2"
      },
      "outputs": [],
      "source": [
        "median_speed = df['Speed_of_Impact'].median()\n",
        "df['Speed_of_Impact'].fillna(median_speed, inplace=True)"
      ]
    },
    {
      "cell_type": "code",
      "execution_count": 28,
      "metadata": {
        "colab": {
          "base_uri": "https://localhost:8080/",
          "height": 540
        },
        "id": "Dz08sQGDpnMJ",
        "outputId": "bce4b1e3-4817-46f6-abbd-55afaeb2b08b"
      },
      "outputs": [
        {
          "data": {
            "image/png": "[encoded data removed]",
            "text/plain": [
              "<Figure size 640x480 with 2 Axes>"
            ]
          },
          "metadata": {},
          "output_type": "display_data"
        }
      ],
      "source": [
        "# Correlation heatmap\n",
        "\n",
        "# correlation in data and plot with seaborn\n",
        "import matplotlib.pyplot as plt\n",
        "import seaborn as sns\n",
        "\n",
        "corr = df.select_dtypes(include='number').corr()\n",
        "# Create the heatmap\n",
        "sns.heatmap(corr, annot=True, cmap='coolwarm')\n",
        "\n",
        "# Show the plot\n",
        "plt.show()"
      ]
    },
    {
      "cell_type": "code",
      "execution_count": 29,
      "metadata": {
        "colab": {
          "base_uri": "https://localhost:8080/",
          "height": 272
        },
        "id": "hLEwfSXeqKyK",
        "outputId": "6bee4db8-df20-4512-f77e-ceb1654aacd4"
      },
      "outputs": [
        {
          "data": {
            "text/plain": [
              "Age                0\n",
              "Gender             0\n",
              "Speed_of_Impact    0\n",
              "Helmet_Used        0\n",
              "Seatbelt_Used      0\n",
              "Survived           0\n",
              "dtype: int64"
            ]
          },
          "execution_count": 29,
          "metadata": {},
          "output_type": "execute_result"
        }
      ],
      "source": [
        "df.isnull().sum()"
      ]
    },
    {
      "cell_type": "code",
      "execution_count": 32,
      "metadata": {
        "colab": {
          "base_uri": "https://localhost:8080/"
        },
        "id": "pFdhLXH6pnOd",
        "outputId": "27c66eac-b56f-43e6-f3f2-9b6a43c2df52"
      },
      "outputs": [
        {
          "name": "stdout",
          "output_type": "stream",
          "text": [
            "\n",
            "VIF Scores:\n",
            "           Feature       VIF\n",
            "0              Age  6.052923\n",
            "1           Gender  1.722887\n",
            "2  Speed_of_Impact  4.960114\n",
            "3      Helmet_Used  2.223023\n",
            "4    Seatbelt_Used  2.128593\n",
            "5         Survived  2.076850\n"
          ]
        }
      ],
      "source": [
        "# Check for Multicollinearity\n",
        "from statsmodels.stats.outliers_influence import variance_inflation_factor\n",
        "\n",
        "vif_data = pd.DataFrame()\n",
        "vif_data['Feature'] = df.columns\n",
        "vif_data['VIF'] = [variance_inflation_factor(df.values, i)\n",
        "                   for i in range(df.shape[1])]\n",
        "print(\"\\nVIF Scores:\")\n",
        "print(vif_data)"
      ]
    },
    {
      "cell_type": "code",
      "execution_count": 33,
      "metadata": {
        "colab": {
          "base_uri": "https://localhost:8080/"
        },
        "id": "e-d_-EBfrGyp",
        "outputId": "d9be5dd4-ef28-4c22-e2ec-52352920d557"
      },
      "outputs": [
        {
          "data": {
            "text/plain": [
              "Index(['Age', 'Gender', 'Speed_of_Impact', 'Helmet_Used', 'Seatbelt_Used',\n",
              "       'Survived'],\n",
              "      dtype='object')"
            ]
          },
          "execution_count": 33,
          "metadata": {},
          "output_type": "execute_result"
        }
      ],
      "source": [
        "df.columns"
      ]
    },
    {
      "cell_type": "code",
      "execution_count": 39,
      "metadata": {
        "id": "d0WGm6AfpnQR"
      },
      "outputs": [],
      "source": [
        "# Train Test split\n",
        "from sklearn.model_selection import train_test_split\n",
        "\n",
        "X = df[df.columns.difference(['Survived'])]\n",
        "y = df['Survived']\n",
        "\n",
        "X_train, X_test, y_train, y_test = train_test_split(X, y, test_size=0.2, random_state=42)"
      ]
    },
    {
      "cell_type": "code",
      "execution_count": 40,
      "metadata": {
        "id": "W_X0A7OorT4W"
      },
      "outputs": [],
      "source": [
        "from sklearn.linear_model import LogisticRegression\n",
        "\n",
        "model = LogisticRegression()\n",
        "model.fit(X_train, y_train)\n",
        "\n",
        "train_pred = model.predict(X_train)\n",
        "test_pred = model.predict(X_test)"
      ]
    },
    {
      "cell_type": "code",
      "execution_count": 38,
      "metadata": {},
      "outputs": [
        {
          "name": "stdout",
          "output_type": "stream",
          "text": [
            "Collecting scikit-learn\n",
            "  Downloading scikit_learn-1.6.1-cp310-cp310-macosx_12_0_arm64.whl (11.1 MB)\n",
            "\u001b[2K     \u001b[90m━━━━━━━━━━━━━━━━━━━━━━━━━━━━━━━━━━━━━━━━\u001b[0m \u001b[32m11.1/11.1 MB\u001b[0m \u001b[31m9.6 MB/s\u001b[0m eta \u001b[36m0:00:00\u001b[0m00:01\u001b[0m00:01\u001b[0m\n",
            "\u001b[?25hCollecting threadpoolctl>=3.1.0\n",
            "  Downloading threadpoolctl-3.5.0-py3-none-any.whl (18 kB)\n",
            "Requirement already satisfied: scipy>=1.6.0 in /Library/Frameworks/Python.framework/Versions/3.10/lib/python3.10/site-packages (from scikit-learn) (1.15.2)\n",
            "Requirement already satisfied: numpy>=1.19.5 in /Library/Frameworks/Python.framework/Versions/3.10/lib/python3.10/site-packages (from scikit-learn) (2.2.3)\n",
            "Collecting joblib>=1.2.0\n",
            "  Downloading joblib-1.4.2-py3-none-any.whl (301 kB)\n",
            "\u001b[2K     \u001b[90m━━━━━━━━━━━━━━━━━━━━━━━━━━━━━━━━━━━━━━━\u001b[0m \u001b[32m301.8/301.8 kB\u001b[0m \u001b[31m9.3 MB/s\u001b[0m eta \u001b[36m0:00:00\u001b[0m\n",
            "\u001b[?25hInstalling collected packages: threadpoolctl, joblib, scikit-learn\n",
            "Successfully installed joblib-1.4.2 scikit-learn-1.6.1 threadpoolctl-3.5.0\n",
            "--- Logging error ---\n",
            "Traceback (most recent call last):\n",
            "  File \"/Library/Frameworks/Python.framework/Versions/3.10/lib/python3.10/site-packages/pip/_internal/utils/logging.py\", line 177, in emit\n",
            "    self.console.print(renderable, overflow=\"ignore\", crop=False, style=style)\n",
            "  File \"/Library/Frameworks/Python.framework/Versions/3.10/lib/python3.10/site-packages/pip/_vendor/rich/console.py\", line 1673, in print\n",
            "    extend(render(renderable, render_options))\n",
            "  File \"/Library/Frameworks/Python.framework/Versions/3.10/lib/python3.10/site-packages/pip/_vendor/rich/console.py\", line 1305, in render\n",
            "    for render_output in iter_render:\n",
            "  File \"/Library/Frameworks/Python.framework/Versions/3.10/lib/python3.10/site-packages/pip/_internal/utils/logging.py\", line 134, in __rich_console__\n",
            "    for line in lines:\n",
            "  File \"/Library/Frameworks/Python.framework/Versions/3.10/lib/python3.10/site-packages/pip/_vendor/rich/segment.py\", line 249, in split_lines\n",
            "    for segment in segments:\n",
            "  File \"/Library/Frameworks/Python.framework/Versions/3.10/lib/python3.10/site-packages/pip/_vendor/rich/console.py\", line 1283, in render\n",
            "    renderable = rich_cast(renderable)\n",
            "  File \"/Library/Frameworks/Python.framework/Versions/3.10/lib/python3.10/site-packages/pip/_vendor/rich/protocol.py\", line 36, in rich_cast\n",
            "    renderable = cast_method()\n",
            "  File \"/Library/Frameworks/Python.framework/Versions/3.10/lib/python3.10/site-packages/pip/_internal/self_outdated_check.py\", line 130, in __rich__\n",
            "    pip_cmd = get_best_invocation_for_this_pip()\n",
            "  File \"/Library/Frameworks/Python.framework/Versions/3.10/lib/python3.10/site-packages/pip/_internal/utils/entrypoints.py\", line 58, in get_best_invocation_for_this_pip\n",
            "    if found_executable and os.path.samefile(\n",
            "  File \"/Library/Frameworks/Python.framework/Versions/3.10/lib/python3.10/genericpath.py\", line 101, in samefile\n",
            "    s2 = os.stat(f2)\n",
            "FileNotFoundError: [Errno 2] No such file or directory: '/Library/Frameworks/Python.framework/Versions/3.10/bin/pip'\n",
            "Call stack:\n",
            "  File \"/Library/Frameworks/Python.framework/Versions/3.10/lib/python3.10/runpy.py\", line 196, in _run_module_as_main\n",
            "    return _run_code(code, main_globals, None,\n",
            "  File \"/Library/Frameworks/Python.framework/Versions/3.10/lib/python3.10/runpy.py\", line 86, in _run_code\n",
            "    exec(code, run_globals)\n",
            "  File \"/Library/Frameworks/Python.framework/Versions/3.10/lib/python3.10/site-packages/pip/__main__.py\", line 31, in <module>\n",
            "    sys.exit(_main())\n",
            "  File \"/Library/Frameworks/Python.framework/Versions/3.10/lib/python3.10/site-packages/pip/_internal/cli/main.py\", line 70, in main\n",
            "    return command.main(cmd_args)\n",
            "  File \"/Library/Frameworks/Python.framework/Versions/3.10/lib/python3.10/site-packages/pip/_internal/cli/base_command.py\", line 101, in main\n",
            "    return self._main(args)\n",
            "  File \"/Library/Frameworks/Python.framework/Versions/3.10/lib/python3.10/site-packages/pip/_internal/cli/base_command.py\", line 223, in _main\n",
            "    self.handle_pip_version_check(options)\n",
            "  File \"/Library/Frameworks/Python.framework/Versions/3.10/lib/python3.10/site-packages/pip/_internal/cli/req_command.py\", line 190, in handle_pip_version_check\n",
            "    pip_self_version_check(session, options)\n",
            "  File \"/Library/Frameworks/Python.framework/Versions/3.10/lib/python3.10/site-packages/pip/_internal/self_outdated_check.py\", line 236, in pip_self_version_check\n",
            "    logger.warning(\"[present-rich] %s\", upgrade_prompt)\n",
            "  File \"/Library/Frameworks/Python.framework/Versions/3.10/lib/python3.10/logging/__init__.py\", line 1489, in warning\n",
            "    self._log(WARNING, msg, args, **kwargs)\n",
            "  File \"/Library/Frameworks/Python.framework/Versions/3.10/lib/python3.10/logging/__init__.py\", line 1624, in _log\n",
            "    self.handle(record)\n",
            "  File \"/Library/Frameworks/Python.framework/Versions/3.10/lib/python3.10/logging/__init__.py\", line 1634, in handle\n",
            "    self.callHandlers(record)\n",
            "  File \"/Library/Frameworks/Python.framework/Versions/3.10/lib/python3.10/logging/__init__.py\", line 1696, in callHandlers\n",
            "    hdlr.handle(record)\n",
            "  File \"/Library/Frameworks/Python.framework/Versions/3.10/lib/python3.10/logging/__init__.py\", line 968, in handle\n",
            "    self.emit(record)\n",
            "  File \"/Library/Frameworks/Python.framework/Versions/3.10/lib/python3.10/site-packages/pip/_internal/utils/logging.py\", line 179, in emit\n",
            "    self.handleError(record)\n",
            "Message: '[present-rich] %s'\n",
            "Arguments: (UpgradePrompt(old='22.2.1', new='25.0.1'),)\n",
            "Note: you may need to restart the kernel to use updated packages.\n"
          ]
        }
      ],
      "source": [
        "pip install scikit-learn\n"
      ]
    },
    {
      "cell_type": "code",
      "execution_count": 42,
      "metadata": {
        "colab": {
          "base_uri": "https://localhost:8080/"
        },
        "id": "3w4KHUnIrT6c",
        "outputId": "0c617cf8-0dec-4de8-d8d8-1a77274fc699"
      },
      "outputs": [
        {
          "name": "stdout",
          "output_type": "stream",
          "text": [
            "Accuracy Metric -  0.5625 0.55\n",
            "Precision Metric -  0.5747126436781609 0.5\n",
            "Recall Metric -  0.6024096385542169 0.3888888888888889\n",
            "F1 Score Metric -  0.5882352941176471 0.4375\n",
            "ROC Score Metric -  0.5609450790173681 0.5353535353535354\n"
          ]
        }
      ],
      "source": [
        "from sklearn.metrics import accuracy_score, precision_score, recall_score, f1_score, roc_auc_score\n",
        "\n",
        "# Accuracy score - Train and test\n",
        "accuracy_train = accuracy_score(y_train, train_pred)\n",
        "accuracy_test = accuracy_score(y_test, test_pred)\n",
        "print('Accuracy Metric - ', accuracy_train, accuracy_test)\n",
        "\n",
        "# Precision score - Train and test\n",
        "precision_train = precision_score(y_train, train_pred)\n",
        "precision_test = precision_score(y_test, test_pred)\n",
        "print('Precision Metric - ', precision_train, precision_test)\n",
        "\n",
        "# Recall score - Train and test\n",
        "recall_train = recall_score(y_train, train_pred)\n",
        "recall_test = recall_score(y_test, test_pred)\n",
        "print('Recall Metric - ', recall_train, recall_test)\n",
        "\n",
        "# F1 score - Train and test\n",
        "f1_train = f1_score(y_train, train_pred)\n",
        "f1_test = f1_score(y_test, test_pred)\n",
        "print('F1 Score Metric - ', f1_train, f1_test)\n",
        "\n",
        "# ROC score - Train and test\n",
        "roc_train = roc_auc_score(y_train, train_pred)\n",
        "roc_test = roc_auc_score(y_test, test_pred)\n",
        "print('ROC Score Metric - ', roc_train, roc_test)"
      ]
    },
    {
      "cell_type": "code",
      "execution_count": 43,
      "metadata": {
        "colab": {
          "base_uri": "https://localhost:8080/"
        },
        "id": "lo4OQSadrT8h",
        "outputId": "67512feb-faa2-479e-a2a5-2c542297ca3f"
      },
      "outputs": [
        {
          "data": {
            "text/plain": [
              "array([[ 0.01109346,  0.6603058 , -0.25200459,  0.22831432, -0.00105019]])"
            ]
          },
          "execution_count": 43,
          "metadata": {},
          "output_type": "execute_result"
        }
      ],
      "source": [
        "model.coef_"
      ]
    },
    {
      "cell_type": "code",
      "execution_count": 44,
      "metadata": {
        "colab": {
          "base_uri": "https://localhost:8080/"
        },
        "id": "D7KbzmWOrT-m",
        "outputId": "a34863e2-c811-4e57-be74-cf2d42247510"
      },
      "outputs": [
        {
          "name": "stdout",
          "output_type": "stream",
          "text": [
            "Optimization terminated successfully.\n",
            "         Current function value: 0.672620\n",
            "         Iterations 4\n"
          ]
        }
      ],
      "source": [
        "# Using Stats model - Logistic Regression\n",
        "\n",
        "import statsmodels.api as sm\n",
        "\n",
        "X = sm.add_constant(X_train)\n",
        "y = y_train\n",
        "model = sm.Logit(y, X).fit()"
      ]
    },
    {
      "cell_type": "code",
      "execution_count": 45,
      "metadata": {
        "colab": {
          "base_uri": "https://localhost:8080/"
        },
        "id": "rkGBPx11tvZy",
        "outputId": "35b6784f-2a7b-4e4e-c15e-660056c16ff5"
      },
      "outputs": [
        {
          "name": "stdout",
          "output_type": "stream",
          "text": [
            "                           Logit Regression Results                           \n",
            "==============================================================================\n",
            "Dep. Variable:               Survived   No. Observations:                  160\n",
            "Model:                          Logit   Df Residuals:                      154\n",
            "Method:                           MLE   Df Model:                            5\n",
            "Date:                Fri, 21 Feb 2025   Pseudo R-squ.:                 0.02863\n",
            "Time:                        14:54:22   Log-Likelihood:                -107.62\n",
            "converged:                       True   LL-Null:                       -110.79\n",
            "Covariance Type:            nonrobust   LLR p-value:                    0.2742\n",
            "===================================================================================\n",
            "                      coef    std err          z      P>|z|      [0.025      0.975]\n",
            "-----------------------------------------------------------------------------------\n",
            "const              -0.7177      0.706     -1.017      0.309      -2.101       0.665\n",
            "Age                 0.0116      0.011      1.049      0.294      -0.010       0.033\n",
            "Gender              0.7376      0.329      2.239      0.025       0.092       1.383\n",
            "Helmet_Used        -0.2887      0.334     -0.864      0.387      -0.943       0.366\n",
            "Seatbelt_Used       0.2683      0.334      0.802      0.423      -0.387       0.924\n",
            "Speed_of_Impact    -0.0010      0.005     -0.184      0.854      -0.012       0.010\n",
            "===================================================================================\n"
          ]
        }
      ],
      "source": [
        "print(model.summary())"
      ]
    },
    {
      "cell_type": "code",
      "execution_count": 46,
      "metadata": {
        "colab": {
          "base_uri": "https://localhost:8080/"
        },
        "id": "OuYWoA7QuImQ",
        "outputId": "38d1a894-55e2-4e6f-9178-d1be5cf1d576"
      },
      "outputs": [
        {
          "data": {
            "text/plain": [
              "np.float64(1.3077394029934453)"
            ]
          },
          "execution_count": 46,
          "metadata": {},
          "output_type": "execute_result"
        }
      ],
      "source": [
        "np.exp(0.2683)"
      ]
    },
    {
      "cell_type": "code",
      "execution_count": 47,
      "metadata": {
        "colab": {
          "base_uri": "https://localhost:8080/"
        },
        "id": "gOIr4cW4uIo0",
        "outputId": "048cec04-0cf0-46a3-86bd-ebe2cb6d3a55"
      },
      "outputs": [
        {
          "data": {
            "text/plain": [
              "30.77394"
            ]
          },
          "execution_count": 47,
          "metadata": {},
          "output_type": "execute_result"
        }
      ],
      "source": [
        "(1.3077394 - 1)*100"
      ]
    },
    {
      "cell_type": "code",
      "execution_count": 48,
      "metadata": {
        "colab": {
          "base_uri": "https://localhost:8080/"
        },
        "id": "RA-8RaO8xJnk",
        "outputId": "99dc0a47-f28f-4c7d-e12f-c1ebb10fe90e"
      },
      "outputs": [
        {
          "data": {
            "text/plain": [
              "((160,), (40,))"
            ]
          },
          "execution_count": 48,
          "metadata": {},
          "output_type": "execute_result"
        }
      ],
      "source": [
        "train_pred.shape, test_pred.shape"
      ]
    },
    {
      "cell_type": "code",
      "execution_count": 49,
      "metadata": {
        "colab": {
          "base_uri": "https://localhost:8080/",
          "height": 616
        },
        "id": "FC2tQslYxsFV",
        "outputId": "66aa77da-91d5-4eb9-e558-e399064ebee6"
      },
      "outputs": [
        {
          "name": "stdout",
          "output_type": "stream",
          "text": [
            "          Predicted_0  Predicted_1\n",
            "Actual_0           40           37\n",
            "Actual_1           33           50\n"
          ]
        },
        {
          "data": {
            "image/png": "[encoded data removed]",
            "text/plain": [
              "<Figure size 800x600 with 2 Axes>"
            ]
          },
          "metadata": {},
          "output_type": "display_data"
        }
      ],
      "source": [
        "# Confusion Matrix\n",
        "\n",
        "from sklearn.metrics import confusion_matrix\n",
        "\n",
        "# Create a confusion matrix\n",
        "conf_matrix_train = confusion_matrix(y_train, train_pred)\n",
        "\n",
        "# Convert confusion matrix to DataFrame for better readability\n",
        "conf_matrix_df = pd.DataFrame(conf_matrix_train, index=['Actual_0', 'Actual_1'], columns=['Predicted_0', 'Predicted_1'])\n",
        "\n",
        "# Display the confusion matrix\n",
        "print(conf_matrix_df)\n",
        "\n",
        "# Optional: Visualize the confusion matrix using Seaborn\n",
        "plt.figure(figsize=(8, 6))\n",
        "sns.heatmap(conf_matrix_df, annot=True, fmt='d', cmap='Blues')\n",
        "plt.title('Confusion Matrix: Actual vs. Predicted')\n",
        "plt.xlabel('Predicted')\n",
        "plt.ylabel('Actual')\n",
        "plt.show()"
      ]
    },
    {
      "cell_type": "code",
      "execution_count": 50,
      "metadata": {
        "colab": {
          "base_uri": "https://localhost:8080/",
          "height": 616
        },
        "id": "kdxxhxUZx-Kq",
        "outputId": "6e2d0416-a2d4-42ca-b6bd-3d4449e41a58"
      },
      "outputs": [
        {
          "name": "stdout",
          "output_type": "stream",
          "text": [
            "          Predicted_0  Predicted_1\n",
            "Actual_0           15            7\n",
            "Actual_1           11            7\n"
          ]
        },
        {
          "data": {
            "image/png": "[encoded data removed]",
            "text/plain": [
              "<Figure size 800x600 with 2 Axes>"
            ]
          },
          "metadata": {},
          "output_type": "display_data"
        }
      ],
      "source": [
        "# Confusion Matrix - Test\n",
        "\n",
        "from sklearn.metrics import confusion_matrix\n",
        "\n",
        "# Create a confusion matrix\n",
        "conf_matrix_test = confusion_matrix(y_test, test_pred)\n",
        "\n",
        "# Convert confusion matrix to DataFrame for better readability\n",
        "conf_matrix_df = pd.DataFrame(conf_matrix_test, index=['Actual_0', 'Actual_1'], columns=['Predicted_0', 'Predicted_1'])\n",
        "\n",
        "# Display the confusion matrix\n",
        "print(conf_matrix_df)\n",
        "\n",
        "# Optional: Visualize the confusion matrix using Seaborn\n",
        "plt.figure(figsize=(8, 6))\n",
        "sns.heatmap(conf_matrix_df, annot=True, fmt='d', cmap='Blues')\n",
        "plt.title('Confusion Matrix: Actual vs. Predicted')\n",
        "plt.xlabel('Predicted')\n",
        "plt.ylabel('Actual')\n",
        "plt.show()"
      ]
    },
    {
      "cell_type": "code",
      "execution_count": null,
      "metadata": {
        "id": "joS7vosYx-NL"
      },
      "outputs": [],
      "source": []
    },
    {
      "cell_type": "code",
      "execution_count": null,
      "metadata": {
        "id": "Q_-tW6A_x-Pf"
      },
      "outputs": [],
      "source": []
    },
    {
      "cell_type": "code",
      "execution_count": null,
      "metadata": {
        "id": "3cRNsIS4xsJc"
      },
      "outputs": [],
      "source": []
    },
    {
      "cell_type": "code",
      "execution_count": null,
      "metadata": {
        "id": "n0lNgEUgxsLh"
      },
      "outputs": [],
      "source": []
    },
    {
      "cell_type": "code",
      "execution_count": null,
      "metadata": {
        "id": "o_5h_-18xsN3"
      },
      "outputs": [],
      "source": []
    },
    {
      "cell_type": "code",
      "execution_count": null,
      "metadata": {
        "id": "LIZLCepQxsQF"
      },
      "outputs": [],
      "source": []
    }
  ],
  "metadata": {
    "colab": {
      "provenance": []
    },
    "kernelspec": {
      "display_name": "Python 3",
      "name": "python3"
    },
    "language_info": {
      "codemirror_mode": {
        "name": "ipython",
        "version": 3
      },
      "file_extension": ".py",
      "mimetype": "text/x-python",
      "name": "python",
      "nbconvert_exporter": "python",
      "pygments_lexer": "ipython3",
      "version": "3.10.6"
    }
  },
  "nbformat": 4,
  "nbformat_minor": 0
}
